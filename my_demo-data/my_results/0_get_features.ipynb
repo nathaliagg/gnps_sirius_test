{
 "cells": [
  {
   "cell_type": "code",
   "execution_count": 1,
   "metadata": {},
   "outputs": [],
   "source": [
    "import os\n",
    "import pandas as pd\n",
    "import numpy as np"
   ]
  },
  {
   "cell_type": "code",
   "execution_count": 2,
   "metadata": {},
   "outputs": [],
   "source": [
    "negative = pd.read_csv('/Volumes/NGG_TFAILY_LAB_1/Fusarium_wilt_Lettuce/tandem_ms/negative/MS2_merged_output/ms2_annotation_complete.csv')\n",
    "n_features = ['FT0762', 'FT0028', 'FT0188', 'FT0186', 'FT0612', 'FT0715', 'FT0786']\n",
    "negative = negative[negative['Features'].isin(n_features)].reset_index(drop=True)\n",
    "negative.to_csv('f_negative_mode_results.csv', index=False)"
   ]
  },
  {
   "cell_type": "code",
   "execution_count": 3,
   "metadata": {},
   "outputs": [],
   "source": [
    "positive = pd.read_csv('/Volumes/NGG_TFAILY_LAB_1/Fusarium_wilt_Lettuce/tandem_ms/positive/MS2_merged_output/ms2_annotation_complete.csv')\n",
    "p_features = ['FT0681', 'FT0410', 'FT0320', 'FT0440', 'FT0405', 'FT0071', 'FT0568']\n",
    "positive = positive[positive['Features'].isin(p_features)].reset_index(drop=True)\n",
    "positive.to_csv('f_positive_mode_results.csv', index=False)"
   ]
  },
  {
   "cell_type": "code",
   "execution_count": null,
   "metadata": {},
   "outputs": [],
   "source": []
  }
 ],
 "metadata": {
  "kernelspec": {
   "display_name": "Python 3",
   "language": "python",
   "name": "python3"
  },
  "language_info": {
   "codemirror_mode": {
    "name": "ipython",
    "version": 3
   },
   "file_extension": ".py",
   "mimetype": "text/x-python",
   "name": "python",
   "nbconvert_exporter": "python",
   "pygments_lexer": "ipython3",
   "version": "3.9.0"
  },
  "toc": {
   "base_numbering": 1,
   "nav_menu": {},
   "number_sections": true,
   "sideBar": true,
   "skip_h1_title": false,
   "title_cell": "Table of Contents",
   "title_sidebar": "Contents",
   "toc_cell": false,
   "toc_position": {},
   "toc_section_display": true,
   "toc_window_display": false
  },
  "varInspector": {
   "cols": {
    "lenName": 16,
    "lenType": 16,
    "lenVar": 40
   },
   "kernels_config": {
    "python": {
     "delete_cmd_postfix": "",
     "delete_cmd_prefix": "del ",
     "library": "var_list.py",
     "varRefreshCmd": "print(var_dic_list())"
    },
    "r": {
     "delete_cmd_postfix": ") ",
     "delete_cmd_prefix": "rm(",
     "library": "var_list.r",
     "varRefreshCmd": "cat(var_dic_list()) "
    }
   },
   "types_to_exclude": [
    "module",
    "function",
    "builtin_function_or_method",
    "instance",
    "_Feature"
   ],
   "window_display": false
  }
 },
 "nbformat": 4,
 "nbformat_minor": 4
}
