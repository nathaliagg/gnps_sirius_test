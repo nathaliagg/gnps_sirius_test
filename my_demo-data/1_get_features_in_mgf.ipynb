{
 "cells": [
  {
   "cell_type": "code",
   "execution_count": 1,
   "metadata": {},
   "outputs": [],
   "source": [
    "import os\n",
    "import pandas as pd\n",
    "import numpy as np\n",
    "from itertools import zip_longest\n",
    "\n",
    "###############################################\n",
    "\n",
    "def get_indices(ms2_file):\n",
    "    \"\"\"\n",
    "    Get indices of BEGIN IONS and END IONS from an ms2 consensus file in .mgf\n",
    "    \n",
    "    \"\"\"\n",
    "    \n",
    "    begin_idx = []\n",
    "    end_idx = []\n",
    "\n",
    "    with open(ms2_file, 'r') as file:\n",
    "        for idx, line in enumerate(file.readlines()):\n",
    "\n",
    "            if 'BEGIN IONS' in line:\n",
    "                begin_idx.append(idx)\n",
    "\n",
    "            elif 'END IONS' in line:\n",
    "                end_idx.append(idx)\n",
    "\n",
    "            else:\n",
    "                continue\n",
    "\n",
    "    begin_end_tuple = list(zip(begin_idx, end_idx)) \n",
    "    \n",
    "\n",
    "    return begin_end_tuple\n",
    "\n",
    "###############################################\n",
    "\n",
    "def get_features(ms2_file, list_of_indices, listFeatures):\n",
    "    \"\"\"\n",
    "    Get the features from a list of features from an ms2 consensus file in .mgf\n",
    "    \n",
    "    \"\"\"\n",
    "    \n",
    "    targetFeatureList = list()\n",
    "\n",
    "    with open(ms2_file, 'r') as f:\n",
    "        lineList = [line for line in f]\n",
    "\n",
    "        for idx in list_of_indices:\n",
    "            featureString = \"\".join(lineList[idx[0]:idx[1]+1])\n",
    "\n",
    "            for feature in listFeatures:\n",
    "                 if \"TITLE=\"+feature in featureString:\n",
    "                        targetFeatureList.append(featureString)\n",
    "    \n",
    "    return targetFeatureList\n",
    "\n",
    "###############################################"
   ]
  },
  {
   "cell_type": "code",
   "execution_count": 2,
   "metadata": {},
   "outputs": [],
   "source": [
    "negative = \"/Volumes/NGG_TFAILY_LAB_1/Fusarium_wilt_Lettuce/tandem_ms/negative/ms2spectra_consensus.mgf\"\n",
    "n_features = ['FT0762', 'FT0028', 'FT0188', 'FT0186', 'FT0612', 'FT0715', 'FT0786']\n",
    "\n",
    "with open('negative/negative_features.mgf', 'w') as out:\n",
    "    indices_list = get_indices(negative)\n",
    "    featuresList = get_features(negative, indices_list, n_features)\n",
    "    for feature in featuresList:\n",
    "        out.write(feature+'\\n')"
   ]
  },
  {
   "cell_type": "code",
   "execution_count": 3,
   "metadata": {},
   "outputs": [],
   "source": [
    "positive = \"/Volumes/NGG_TFAILY_LAB_1/Fusarium_wilt_Lettuce/tandem_ms/positive/ms2spectra_consensus.mgf\"\n",
    "p_features = ['FT0681', 'FT0410', 'FT0320', 'FT0440', 'FT0405', 'FT0071', 'FT0568']\n",
    "\n",
    "with open('positive/positive_features.mgf', 'w') as out:\n",
    "    indices_list = get_indices(positive)\n",
    "    featuresList = get_features(positive, indices_list, p_features)\n",
    "    for feature in featuresList:\n",
    "        out.write(feature+'\\n')"
   ]
  },
  {
   "cell_type": "code",
   "execution_count": null,
   "metadata": {},
   "outputs": [],
   "source": []
  }
 ],
 "metadata": {
  "kernelspec": {
   "display_name": "Python 3",
   "language": "python",
   "name": "python3"
  },
  "language_info": {
   "codemirror_mode": {
    "name": "ipython",
    "version": 3
   },
   "file_extension": ".py",
   "mimetype": "text/x-python",
   "name": "python",
   "nbconvert_exporter": "python",
   "pygments_lexer": "ipython3",
   "version": "3.9.0"
  },
  "toc": {
   "base_numbering": 1,
   "nav_menu": {},
   "number_sections": true,
   "sideBar": true,
   "skip_h1_title": false,
   "title_cell": "Table of Contents",
   "title_sidebar": "Contents",
   "toc_cell": false,
   "toc_position": {},
   "toc_section_display": true,
   "toc_window_display": false
  },
  "varInspector": {
   "cols": {
    "lenName": 16,
    "lenType": 16,
    "lenVar": 40
   },
   "kernels_config": {
    "python": {
     "delete_cmd_postfix": "",
     "delete_cmd_prefix": "del ",
     "library": "var_list.py",
     "varRefreshCmd": "print(var_dic_list())"
    },
    "r": {
     "delete_cmd_postfix": ") ",
     "delete_cmd_prefix": "rm(",
     "library": "var_list.r",
     "varRefreshCmd": "cat(var_dic_list()) "
    }
   },
   "types_to_exclude": [
    "module",
    "function",
    "builtin_function_or_method",
    "instance",
    "_Feature"
   ],
   "window_display": false
  }
 },
 "nbformat": 4,
 "nbformat_minor": 4
}
